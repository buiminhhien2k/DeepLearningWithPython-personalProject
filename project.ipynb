{
 "metadata": {
  "language_info": {
   "codemirror_mode": {
    "name": "ipython",
    "version": 3
   },
   "file_extension": ".py",
   "mimetype": "text/x-python",
   "name": "python",
   "nbconvert_exporter": "python",
   "pygments_lexer": "ipython3",
   "version": "3.7.4-final"
  },
  "orig_nbformat": 2,
  "kernelspec": {
   "name": "python37464bitbasecondaa1c3086466574cd48df981435f925a65",
   "display_name": "Python 3.7.4 64-bit ('base': conda)"
  }
 },
 "nbformat": 4,
 "nbformat_minor": 2,
 "cells": [
  {
   "cell_type": "code",
   "execution_count": 1,
   "metadata": {},
   "outputs": [],
   "source": [
    "import skimage as sk\n",
    "from skimage.transform import resize\n",
    "import matplotlib.pyplot as plt\n",
    "import os\n",
    "import numpy as np"
   ]
  },
  {
   "cell_type": "code",
   "execution_count": 4,
   "metadata": {
    "tags": []
   },
   "outputs": [
    {
     "output_type": "stream",
     "name": "stdout",
     "text": [
      "1125\n",
      "cloudy212.jpg\n",
      "cloudy213.jpg\n",
      "cloudy214.jpg\n",
      "cloudy215.jpg\n",
      "cloudy216.jpg\n",
      "cloudy217.jpg\n",
      "cloudy218.jpg\n",
      "cloudy219.jpg\n",
      "cloudy22.jpg\n",
      "cloudy220.jpg\n",
      "cloudy221.jpg\n",
      "cloudy222.jpg\n",
      "cloudy223.jpg\n",
      "cloudy224.jpg\n",
      "cloudy225.jpg\n",
      "cloudy226.jpg\n",
      "cloudy227.jpg\n",
      "cloudy228.jpg\n",
      "cloudy229.jpg\n",
      "cloudy23.jpg\n",
      "cloudy230.jpg\n",
      "cloudy231.jpg\n",
      "cloudy232.jpg\n",
      "cloudy233.jpg\n",
      "cloudy234.jpg\n",
      "cloudy235.jpg\n",
      "cloudy236.jpg\n",
      "cloudy237.jpg\n",
      "cloudy238.jpg\n",
      "cloudy239.jpg\n",
      "cloudy24.jpg\n",
      "cloudy240.jpg\n",
      "cloudy241.jpg\n",
      "cloudy242.jpg\n",
      "cloudy243.jpg\n",
      "cloudy244.jpg\n",
      "cloudy255.jpg\n",
      "cloudy256.jpg\n",
      "cloudy257.jpg\n",
      "cloudy258.jpg\n",
      "cloudy259.jpg\n",
      "cloudy26.jpg\n",
      "cloudy260.jpg\n",
      "cloudy261.jpg\n",
      "cloudy262.jpg\n",
      "cloudy263.jpg\n",
      "cloudy264.jpg\n",
      "cloudy265.jpg\n",
      "cloudy266.jpg\n",
      "cloudy267.jpg\n",
      "cloudy268.jpg\n",
      "cloudy269.jpg\n"
     ]
    },
    {
     "output_type": "error",
     "ename": "IndexError",
     "evalue": "tuple index out of range",
     "traceback": [
      "\u001b[1;31m---------------------------------------------------------------------------\u001b[0m",
      "\u001b[1;31mIndexError\u001b[0m                                Traceback (most recent call last)",
      "\u001b[1;32m<ipython-input-4-93cbd73baa65>\u001b[0m in \u001b[0;36m<module>\u001b[1;34m\u001b[0m\n\u001b[0;32m      7\u001b[0m     \u001b[0mimg\u001b[0m \u001b[1;33m=\u001b[0m \u001b[0msk\u001b[0m\u001b[1;33m.\u001b[0m\u001b[0mio\u001b[0m\u001b[1;33m.\u001b[0m\u001b[0mimread\u001b[0m\u001b[1;33m(\u001b[0m\u001b[0mpath_to_the_image_file\u001b[0m\u001b[1;33m)\u001b[0m\u001b[1;33m\u001b[0m\u001b[1;33m\u001b[0m\u001b[0m\n\u001b[0;32m      8\u001b[0m     \u001b[1;32mtry\u001b[0m\u001b[1;33m:\u001b[0m\u001b[1;33m\u001b[0m\u001b[1;33m\u001b[0m\u001b[0m\n\u001b[1;32m----> 9\u001b[1;33m         \u001b[0mw\u001b[0m \u001b[1;33m=\u001b[0m \u001b[0mimg\u001b[0m\u001b[1;33m.\u001b[0m\u001b[0mshape\u001b[0m\u001b[1;33m[\u001b[0m\u001b[1;36m1\u001b[0m\u001b[1;33m]\u001b[0m\u001b[1;33m\u001b[0m\u001b[1;33m\u001b[0m\u001b[0m\n\u001b[0m\u001b[0;32m     10\u001b[0m         \u001b[0mh\u001b[0m \u001b[1;33m=\u001b[0m \u001b[0mimg\u001b[0m\u001b[1;33m.\u001b[0m\u001b[0mshape\u001b[0m\u001b[1;33m[\u001b[0m\u001b[1;36m0\u001b[0m\u001b[1;33m]\u001b[0m\u001b[1;33m\u001b[0m\u001b[1;33m\u001b[0m\u001b[0m\n\u001b[0;32m     11\u001b[0m         \u001b[1;32mif\u001b[0m \u001b[0mw\u001b[0m \u001b[1;33m==\u001b[0m \u001b[0mh\u001b[0m\u001b[1;33m:\u001b[0m\u001b[1;33m\u001b[0m\u001b[1;33m\u001b[0m\u001b[0m\n",
      "\u001b[1;31mIndexError\u001b[0m: tuple index out of range"
     ]
    }
   ],
   "source": [
    "image_list = os.listdir(os.getcwd()+'\\\\data\\\\dataset2')\n",
    "print(len(image_list))\n",
    "square_size = 640\n",
    "square_img_list = {}\n",
    "for image_name in image_list:\n",
    "    path_to_the_image_file ='data/dataset2/'+image_name\n",
    "    img = sk.io.imread(path_to_the_image_file)\n",
    "    try:\n",
    "        w = img.shape[1]\n",
    "        h = img.shape[0]\n",
    "        if w == h:\n",
    "            squ_img = img\n",
    "            square_img_list[image_name] = img\n",
    "\n",
    "        elif w > h:\n",
    "            c_length = w\n",
    "            color = (0,0,0)\n",
    "            squ_img = np.full((c_length,c_length,3),color,dtype=np.uint8)\n",
    "            start_pixel = (c_length - h) // 2\n",
    "            squ_img[start_pixel:h+start_pixel , 0:,0:] = img\n",
    "\n",
    "        elif w < h :\n",
    "            c_length = h\n",
    "            color = (0,0,0)\n",
    "            squ_img = np.full((c_length,c_length,3),color,dtype=np.float64)\n",
    "            start_pixel = (c_length - w) // 2\n",
    "            squ_img[0:,start_pixel:w+start_pixel,0:] = img\n",
    "\n",
    "        squ_img = resize(img,( square_size , square_size),anti_aliasing=True)\n",
    "        square_img_list[image_name] = squ_img\n",
    "        sk.io.imsave('data/dataset_final/'+image_name , sk.img_as_ubyte(squ_img))\n",
    "    # except AttributeError:\n",
    "    #     print('can\\'t read',image_name)\n",
    "    except ValueError:\n",
    "        if len(img.shape) != 3:\n",
    "            print(image_name, 'has only 2 demesions')\n",
    "        elif img.shape[2] ==4:\n",
    "            print(image_name, 'has 4 chanels')\n",
    "        else:\n",
    "            print(image_name, 'has other error')\n",
    "    except MemoryError:\n",
    "        print(image_name)"
   ]
  },
  {
   "cell_type": "code",
   "execution_count": 3,
   "metadata": {},
   "outputs": [
    {
     "output_type": "stream",
     "name": "stdout",
     "text": [
      "1120\n"
     ]
    }
   ],
   "source": [
    "count = 0\n",
    "for i in square_img_list:\n",
    "    count +=1\n",
    "print(count)"
   ]
  },
  {
   "cell_type": "code",
   "execution_count": 4,
   "metadata": {},
   "outputs": [],
   "source": [
    "cloud_img_list = []\n",
    "rain_img_list = []\n",
    "shine_img_list = []\n",
    "sunrise_img_list = []\n",
    "for image_name in square_img_list:\n",
    "    first_2_letter = image_name[:2]\n",
    "    img = square_img_list[image_name]\n",
    "    if first_2_letter == 'cl':\n",
    "        cloud_img_list.append(img)\n",
    "    elif first_2_letter == 'ra':\n",
    "        rain_img_list.append(img)\n",
    "    elif first_2_letter == 'sh':\n",
    "        shine_img_list.append(img)\n",
    "    elif first_2_letter == 'su':\n",
    "        sunrise_img_list.append(img)    "
   ]
  },
  {
   "cell_type": "code",
   "execution_count": 8,
   "metadata": {},
   "outputs": [
    {
     "output_type": "display_data",
     "data": {
      "text/plain": "<Figure size 432x288 with 1 Axes>",
      "image/svg+xml": "<?xml version=\"1.0\" encoding=\"utf-8\" standalone=\"no\"?>\r\n<!DOCTYPE svg PUBLIC \"-//W3C//DTD SVG 1.1//EN\"\r\n  \"http://www.w3.org/Graphics/SVG/1.1/DTD/svg11.dtd\">\r\n<!-- Created with matplotlib (https://matplotlib.org/) -->\r\n<svg height=\"231.84pt\" version=\"1.1\" viewBox=\"0 0 231.84 231.84\" width=\"231.84pt\" xmlns=\"http://www.w3.org/2000/svg\" xmlns:xlink=\"http://www.w3.org/1999/xlink\">\r\n <defs>\r\n  <style type=\"text/css\">\r\n*{stroke-linecap:butt;stroke-linejoin:round;}\r\n  </style>\r\n </defs>\r\n <g id=\"figure_1\">\r\n  <g id=\"patch_1\">\r\n   <path d=\"M 0 231.84 \r\nL 231.84 231.84 \r\nL 231.84 0 \r\nL 0 0 \r\nz\r\n\" style=\"fill:none;\"/>\r\n  </g>\r\n  <g id=\"axes_1\">\r\n   <g clip-path=\"url(#p22a29382e4)\">\r\n    <image height=\"218\" id=\"image43d8b545b4\" transform=\"scale(1 -1)translate(0 -218)\" width=\"218\" x=\"7.2\" xlink:href=\"data:image/png;base64,\r\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\" y=\"-6.64\"/>\r\n   </g>\r\n  </g>\r\n </g>\r\n <defs>\r\n  <clipPath id=\"p22a29382e4\">\r\n   <rect height=\"217.44\" width=\"217.44\" x=\"7.2\" y=\"7.2\"/>\r\n  </clipPath>\r\n </defs>\r\n</svg>\r\n",
      "image/png": "[encoded data removed]"
     },
     "metadata": {
      "needs_background": "light"
     }
    },
    {
     "output_type": "display_data",
     "data": {
      "text/plain": "<Figure size 432x288 with 1 Axes>",
      "image/svg+xml": "<?xml version=\"1.0\" encoding=\"utf-8\" standalone=\"no\"?>\r\n<!DOCTYPE svg PUBLIC \"-//W3C//DTD SVG 1.1//EN\"\r\n  \"http://www.w3.org/Graphics/SVG/1.1/DTD/svg11.dtd\">\r\n<!-- Created with matplotlib (https://matplotlib.org/) -->\r\n<svg height=\"231.84pt\" version=\"1.1\" viewBox=\"0 0 231.84 231.84\" width=\"231.84pt\" xmlns=\"http://www.w3.org/2000/svg\" xmlns:xlink=\"http://www.w3.org/1999/xlink\">\r\n <defs>\r\n  <style type=\"text/css\">\r\n*{stroke-linecap:butt;stroke-linejoin:round;}\r\n  </style>\r\n </defs>\r\n <g id=\"figure_1\">\r\n  <g id=\"patch_1\">\r\n   <path d=\"M 0 231.84 \r\nL 231.84 231.84 \r\nL 231.84 0 \r\nL 0 0 \r\nz\r\n\" style=\"fill:none;\"/>\r\n  </g>\r\n  <g id=\"axes_1\">\r\n   <g clip-path=\"url(#pa7bee79b17)\">\r\n    <image height=\"218\" id=\"image8c2a7c6668\" transform=\"scale(1 -1)translate(0 -218)\" width=\"218\" x=\"7.2\" xlink:href=\"data:image/png;base64,\r\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\" y=\"-6.64\"/>\r\n   </g>\r\n  </g>\r\n </g>\r\n <defs>\r\n  <clipPath id=\"pa7bee79b17\">\r\n   <rect height=\"217.44\" width=\"217.44\" x=\"7.2\" y=\"7.2\"/>\r\n  </clipPath>\r\n </defs>\r\n</svg>\r\n",
      "image/png": "[encoded data removed]"
     },
     "metadata": {
      "needs_background": "light"
     }
    }
   ],
   "source": [
    "plt.axis('off')\n",
    "plt.imshow(square_img_list['cloudy97.jpg'])\n",
    "plt.show()\n",
    "\n",
    "plt.axis('off')\n",
    "plt.imshow(square_img_list['shine34.jpg'])\n",
    "plt.show()"
   ]
  },
  {
   "cell_type": "code",
   "execution_count": 3,
   "metadata": {},
   "outputs": [],
   "source": [
    "!conda create -n tensorflow1 pip python=3.6"
   ]
  },
  {
   "cell_type": "code",
   "execution_count": null,
   "metadata": {},
   "outputs": [],
   "source": [
    "!activate tensorflow1"
   ]
  },
  {
   "cell_type": "code",
   "execution_count": 2,
   "metadata": {},
   "outputs": [
    {
     "output_type": "error",
     "ename": "TypeError",
     "evalue": "expected bytes, Descriptor found",
     "traceback": [
      "\u001b[1;31m---------------------------------------------------------------------------\u001b[0m",
      "\u001b[1;31mTypeError\u001b[0m                                 Traceback (most recent call last)",
      "\u001b[1;32m<ipython-input-2-88d96843a926>\u001b[0m in \u001b[0;36m<module>\u001b[1;34m\u001b[0m\n\u001b[1;32m----> 1\u001b[1;33m \u001b[1;32mimport\u001b[0m \u001b[0mkeras\u001b[0m\u001b[1;33m\u001b[0m\u001b[1;33m\u001b[0m\u001b[0m\n\u001b[0m",
      "\u001b[1;32m~\\Anaconda3\\lib\\site-packages\\keras\\__init__.py\u001b[0m in \u001b[0;36m<module>\u001b[1;34m\u001b[0m\n\u001b[0;32m      1\u001b[0m \u001b[1;33m\u001b[0m\u001b[0m\n\u001b[0;32m      2\u001b[0m \u001b[1;32mtry\u001b[0m\u001b[1;33m:\u001b[0m\u001b[1;33m\u001b[0m\u001b[1;33m\u001b[0m\u001b[0m\n\u001b[1;32m----> 3\u001b[1;33m     \u001b[1;32mfrom\u001b[0m \u001b[0mtensorflow\u001b[0m\u001b[1;33m.\u001b[0m\u001b[0mkeras\u001b[0m\u001b[1;33m.\u001b[0m\u001b[0mlayers\u001b[0m\u001b[1;33m.\u001b[0m\u001b[0mexperimental\u001b[0m\u001b[1;33m.\u001b[0m\u001b[0mpreprocessing\u001b[0m \u001b[1;32mimport\u001b[0m \u001b[0mRandomRotation\u001b[0m\u001b[1;33m\u001b[0m\u001b[1;33m\u001b[0m\u001b[0m\n\u001b[0m\u001b[0;32m      4\u001b[0m \u001b[1;32mexcept\u001b[0m \u001b[0mImportError\u001b[0m\u001b[1;33m:\u001b[0m\u001b[1;33m\u001b[0m\u001b[1;33m\u001b[0m\u001b[0m\n\u001b[0;32m      5\u001b[0m     raise ImportError(\n",
      "\u001b[1;32m~\\Anaconda3\\lib\\site-packages\\tensorflow\\__init__.py\u001b[0m in \u001b[0;36m<module>\u001b[1;34m\u001b[0m\n\u001b[0;32m     32\u001b[0m \u001b[1;33m\u001b[0m\u001b[0m\n\u001b[0;32m     33\u001b[0m \u001b[1;31m# pylint: disable=g-bad-import-order\u001b[0m\u001b[1;33m\u001b[0m\u001b[1;33m\u001b[0m\u001b[1;33m\u001b[0m\u001b[0m\n\u001b[1;32m---> 34\u001b[1;33m \u001b[1;32mfrom\u001b[0m \u001b[0mtensorflow\u001b[0m\u001b[1;33m.\u001b[0m\u001b[0mpython\u001b[0m \u001b[1;32mimport\u001b[0m \u001b[0mpywrap_tensorflow\u001b[0m  \u001b[1;31m# pylint: disable=unused-import\u001b[0m\u001b[1;33m\u001b[0m\u001b[1;33m\u001b[0m\u001b[0m\n\u001b[0m\u001b[0;32m     35\u001b[0m \u001b[1;32mfrom\u001b[0m \u001b[0mtensorflow\u001b[0m\u001b[1;33m.\u001b[0m\u001b[0mpython\u001b[0m\u001b[1;33m.\u001b[0m\u001b[0mtools\u001b[0m \u001b[1;32mimport\u001b[0m \u001b[0mmodule_util\u001b[0m \u001b[1;32mas\u001b[0m \u001b[0m_module_util\u001b[0m\u001b[1;33m\u001b[0m\u001b[1;33m\u001b[0m\u001b[0m\n\u001b[0;32m     36\u001b[0m \u001b[1;33m\u001b[0m\u001b[0m\n",
      "\u001b[1;32m~\\Anaconda3\\lib\\site-packages\\tensorflow\\python\\__init__.py\u001b[0m in \u001b[0;36m<module>\u001b[1;34m\u001b[0m\n\u001b[0;32m     50\u001b[0m \u001b[1;33m\u001b[0m\u001b[0m\n\u001b[0;32m     51\u001b[0m \u001b[1;31m# Protocol buffers\u001b[0m\u001b[1;33m\u001b[0m\u001b[1;33m\u001b[0m\u001b[1;33m\u001b[0m\u001b[0m\n\u001b[1;32m---> 52\u001b[1;33m \u001b[1;32mfrom\u001b[0m \u001b[0mtensorflow\u001b[0m\u001b[1;33m.\u001b[0m\u001b[0mcore\u001b[0m\u001b[1;33m.\u001b[0m\u001b[0mframework\u001b[0m\u001b[1;33m.\u001b[0m\u001b[0mgraph_pb2\u001b[0m \u001b[1;32mimport\u001b[0m \u001b[1;33m*\u001b[0m\u001b[1;33m\u001b[0m\u001b[1;33m\u001b[0m\u001b[0m\n\u001b[0m\u001b[0;32m     53\u001b[0m \u001b[1;32mfrom\u001b[0m \u001b[0mtensorflow\u001b[0m\u001b[1;33m.\u001b[0m\u001b[0mcore\u001b[0m\u001b[1;33m.\u001b[0m\u001b[0mframework\u001b[0m\u001b[1;33m.\u001b[0m\u001b[0mnode_def_pb2\u001b[0m \u001b[1;32mimport\u001b[0m \u001b[1;33m*\u001b[0m\u001b[1;33m\u001b[0m\u001b[1;33m\u001b[0m\u001b[0m\n\u001b[0;32m     54\u001b[0m \u001b[1;32mfrom\u001b[0m \u001b[0mtensorflow\u001b[0m\u001b[1;33m.\u001b[0m\u001b[0mcore\u001b[0m\u001b[1;33m.\u001b[0m\u001b[0mframework\u001b[0m\u001b[1;33m.\u001b[0m\u001b[0msummary_pb2\u001b[0m \u001b[1;32mimport\u001b[0m \u001b[1;33m*\u001b[0m\u001b[1;33m\u001b[0m\u001b[1;33m\u001b[0m\u001b[0m\n",
      "\u001b[1;32m~\\Anaconda3\\lib\\site-packages\\tensorflow\\core\\framework\\graph_pb2.py\u001b[0m in \u001b[0;36m<module>\u001b[1;34m\u001b[0m\n\u001b[0;32m     14\u001b[0m \u001b[1;33m\u001b[0m\u001b[0m\n\u001b[0;32m     15\u001b[0m \u001b[1;33m\u001b[0m\u001b[0m\n\u001b[1;32m---> 16\u001b[1;33m \u001b[1;32mfrom\u001b[0m \u001b[0mtensorflow\u001b[0m\u001b[1;33m.\u001b[0m\u001b[0mcore\u001b[0m\u001b[1;33m.\u001b[0m\u001b[0mframework\u001b[0m \u001b[1;32mimport\u001b[0m \u001b[0mnode_def_pb2\u001b[0m \u001b[1;32mas\u001b[0m \u001b[0mtensorflow_dot_core_dot_framework_dot_node__def__pb2\u001b[0m\u001b[1;33m\u001b[0m\u001b[1;33m\u001b[0m\u001b[0m\n\u001b[0m\u001b[0;32m     17\u001b[0m \u001b[1;32mfrom\u001b[0m \u001b[0mtensorflow\u001b[0m\u001b[1;33m.\u001b[0m\u001b[0mcore\u001b[0m\u001b[1;33m.\u001b[0m\u001b[0mframework\u001b[0m \u001b[1;32mimport\u001b[0m \u001b[0mfunction_pb2\u001b[0m \u001b[1;32mas\u001b[0m \u001b[0mtensorflow_dot_core_dot_framework_dot_function__pb2\u001b[0m\u001b[1;33m\u001b[0m\u001b[1;33m\u001b[0m\u001b[0m\n\u001b[0;32m     18\u001b[0m \u001b[1;32mfrom\u001b[0m \u001b[0mtensorflow\u001b[0m\u001b[1;33m.\u001b[0m\u001b[0mcore\u001b[0m\u001b[1;33m.\u001b[0m\u001b[0mframework\u001b[0m \u001b[1;32mimport\u001b[0m \u001b[0mversions_pb2\u001b[0m \u001b[1;32mas\u001b[0m \u001b[0mtensorflow_dot_core_dot_framework_dot_versions__pb2\u001b[0m\u001b[1;33m\u001b[0m\u001b[1;33m\u001b[0m\u001b[0m\n",
      "\u001b[1;32m~\\Anaconda3\\lib\\site-packages\\tensorflow\\core\\framework\\node_def_pb2.py\u001b[0m in \u001b[0;36m<module>\u001b[1;34m\u001b[0m\n\u001b[0;32m     14\u001b[0m \u001b[1;33m\u001b[0m\u001b[0m\n\u001b[0;32m     15\u001b[0m \u001b[1;33m\u001b[0m\u001b[0m\n\u001b[1;32m---> 16\u001b[1;33m \u001b[1;32mfrom\u001b[0m \u001b[0mtensorflow\u001b[0m\u001b[1;33m.\u001b[0m\u001b[0mcore\u001b[0m\u001b[1;33m.\u001b[0m\u001b[0mframework\u001b[0m \u001b[1;32mimport\u001b[0m \u001b[0mattr_value_pb2\u001b[0m \u001b[1;32mas\u001b[0m \u001b[0mtensorflow_dot_core_dot_framework_dot_attr__value__pb2\u001b[0m\u001b[1;33m\u001b[0m\u001b[1;33m\u001b[0m\u001b[0m\n\u001b[0m\u001b[0;32m     17\u001b[0m \u001b[1;33m\u001b[0m\u001b[0m\n\u001b[0;32m     18\u001b[0m \u001b[1;33m\u001b[0m\u001b[0m\n",
      "\u001b[1;32m~\\Anaconda3\\lib\\site-packages\\tensorflow\\core\\framework\\attr_value_pb2.py\u001b[0m in \u001b[0;36m<module>\u001b[1;34m\u001b[0m\n\u001b[0;32m     14\u001b[0m \u001b[1;33m\u001b[0m\u001b[0m\n\u001b[0;32m     15\u001b[0m \u001b[1;33m\u001b[0m\u001b[0m\n\u001b[1;32m---> 16\u001b[1;33m \u001b[1;32mfrom\u001b[0m \u001b[0mtensorflow\u001b[0m\u001b[1;33m.\u001b[0m\u001b[0mcore\u001b[0m\u001b[1;33m.\u001b[0m\u001b[0mframework\u001b[0m \u001b[1;32mimport\u001b[0m \u001b[0mtensor_pb2\u001b[0m \u001b[1;32mas\u001b[0m \u001b[0mtensorflow_dot_core_dot_framework_dot_tensor__pb2\u001b[0m\u001b[1;33m\u001b[0m\u001b[1;33m\u001b[0m\u001b[0m\n\u001b[0m\u001b[0;32m     17\u001b[0m \u001b[1;32mfrom\u001b[0m \u001b[0mtensorflow\u001b[0m\u001b[1;33m.\u001b[0m\u001b[0mcore\u001b[0m\u001b[1;33m.\u001b[0m\u001b[0mframework\u001b[0m \u001b[1;32mimport\u001b[0m \u001b[0mtensor_shape_pb2\u001b[0m \u001b[1;32mas\u001b[0m \u001b[0mtensorflow_dot_core_dot_framework_dot_tensor__shape__pb2\u001b[0m\u001b[1;33m\u001b[0m\u001b[1;33m\u001b[0m\u001b[0m\n\u001b[0;32m     18\u001b[0m \u001b[1;32mfrom\u001b[0m \u001b[0mtensorflow\u001b[0m\u001b[1;33m.\u001b[0m\u001b[0mcore\u001b[0m\u001b[1;33m.\u001b[0m\u001b[0mframework\u001b[0m \u001b[1;32mimport\u001b[0m \u001b[0mtypes_pb2\u001b[0m \u001b[1;32mas\u001b[0m \u001b[0mtensorflow_dot_core_dot_framework_dot_types__pb2\u001b[0m\u001b[1;33m\u001b[0m\u001b[1;33m\u001b[0m\u001b[0m\n",
      "\u001b[1;32m~\\Anaconda3\\lib\\site-packages\\tensorflow\\core\\framework\\tensor_pb2.py\u001b[0m in \u001b[0;36m<module>\u001b[1;34m\u001b[0m\n\u001b[0;32m     14\u001b[0m \u001b[1;33m\u001b[0m\u001b[0m\n\u001b[0;32m     15\u001b[0m \u001b[1;33m\u001b[0m\u001b[0m\n\u001b[1;32m---> 16\u001b[1;33m \u001b[1;32mfrom\u001b[0m \u001b[0mtensorflow\u001b[0m\u001b[1;33m.\u001b[0m\u001b[0mcore\u001b[0m\u001b[1;33m.\u001b[0m\u001b[0mframework\u001b[0m \u001b[1;32mimport\u001b[0m \u001b[0mresource_handle_pb2\u001b[0m \u001b[1;32mas\u001b[0m \u001b[0mtensorflow_dot_core_dot_framework_dot_resource__handle__pb2\u001b[0m\u001b[1;33m\u001b[0m\u001b[1;33m\u001b[0m\u001b[0m\n\u001b[0m\u001b[0;32m     17\u001b[0m \u001b[1;32mfrom\u001b[0m \u001b[0mtensorflow\u001b[0m\u001b[1;33m.\u001b[0m\u001b[0mcore\u001b[0m\u001b[1;33m.\u001b[0m\u001b[0mframework\u001b[0m \u001b[1;32mimport\u001b[0m \u001b[0mtensor_shape_pb2\u001b[0m \u001b[1;32mas\u001b[0m \u001b[0mtensorflow_dot_core_dot_framework_dot_tensor__shape__pb2\u001b[0m\u001b[1;33m\u001b[0m\u001b[1;33m\u001b[0m\u001b[0m\n\u001b[0;32m     18\u001b[0m \u001b[1;32mfrom\u001b[0m \u001b[0mtensorflow\u001b[0m\u001b[1;33m.\u001b[0m\u001b[0mcore\u001b[0m\u001b[1;33m.\u001b[0m\u001b[0mframework\u001b[0m \u001b[1;32mimport\u001b[0m \u001b[0mtypes_pb2\u001b[0m \u001b[1;32mas\u001b[0m \u001b[0mtensorflow_dot_core_dot_framework_dot_types__pb2\u001b[0m\u001b[1;33m\u001b[0m\u001b[1;33m\u001b[0m\u001b[0m\n",
      "\u001b[1;32m~\\Anaconda3\\lib\\site-packages\\tensorflow\\core\\framework\\resource_handle_pb2.py\u001b[0m in \u001b[0;36m<module>\u001b[1;34m\u001b[0m\n\u001b[0;32m     90\u001b[0m ResourceHandleProto = _reflection.GeneratedProtocolMessageType('ResourceHandleProto', (_message.Message,), dict(\n\u001b[0;32m     91\u001b[0m   \u001b[0mDESCRIPTOR\u001b[0m \u001b[1;33m=\u001b[0m \u001b[0m_RESOURCEHANDLEPROTO\u001b[0m\u001b[1;33m,\u001b[0m\u001b[1;33m\u001b[0m\u001b[1;33m\u001b[0m\u001b[0m\n\u001b[1;32m---> 92\u001b[1;33m   \u001b[0m__module__\u001b[0m \u001b[1;33m=\u001b[0m \u001b[1;34m'tensorflow.core.framework.resource_handle_pb2'\u001b[0m\u001b[1;33m\u001b[0m\u001b[1;33m\u001b[0m\u001b[0m\n\u001b[0m\u001b[0;32m     93\u001b[0m   \u001b[1;31m# @@protoc_insertion_point(class_scope:tensorflow.ResourceHandleProto)\u001b[0m\u001b[1;33m\u001b[0m\u001b[1;33m\u001b[0m\u001b[1;33m\u001b[0m\u001b[0m\n\u001b[0;32m     94\u001b[0m   ))\n",
      "\u001b[1;31mTypeError\u001b[0m: expected bytes, Descriptor found"
     ]
    }
   ],
   "source": [
    "import keras"
   ]
  },
  {
   "cell_type": "code",
   "execution_count": null,
   "metadata": {},
   "outputs": [],
   "source": []
  }
 ]
}